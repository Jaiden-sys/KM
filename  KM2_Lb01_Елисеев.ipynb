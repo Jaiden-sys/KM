{
 "cells": [
  {
   "cell_type": "markdown",
   "id": "c8c3b836-5079-48ad-87d3-c4eed2c7420b",
   "metadata": {
    "editable": true,
    "slideshow": {
     "slide_type": ""
    },
    "tags": []
   },
   "source": [
    "# Лабораторная работа 1\n",
    "# Задача о падении тела. Построение графиков функции"
   ]
  },
  {
   "cell_type": "markdown",
   "id": "cd6f6f90-3479-4b7b-b3ae-5cfcdce93ef1",
   "metadata": {
    "editable": true,
    "slideshow": {
     "slide_type": ""
    },
    "tags": []
   },
   "source": [
    "Елисеев Роман Павлович, 27.02.2025"
   ]
  },
  {
   "cell_type": "markdown",
   "id": "950504ce-003d-4a2f-bac7-fe525234c1a2",
   "metadata": {
    "editable": true,
    "slideshow": {
     "slide_type": ""
    },
    "tags": []
   },
   "source": [
    "# Задание 1.1. Задача о падении тела\n",
    "**Описание процесса**. Тело запущено под углом $\\alpha$ к горизонту на высоте $h_{start}$ и через \n",
    "время $t=T$ достигает другое тело, расположенное на расстоянии $s_{end}$ и \n",
    "высоте $h_{end}$.\n",
    "\n",
    "**Предположения**. - Тело будем считать материальной точкой массы $m$. - Движение запущенного тела осуществляется только под действием силы \n",
    "тяжести $${\\bf F} = m (0,-g),$$ где $m$ -- масса тела, $g$ -- ускорение \n",
    "свободного падения. - Сопротивлением среды пренебрегаем.\n",
    "\n",
    "**Данные**. \n",
    "- Задача рассматривается при следующих значениях параметров: $h_{start} = 1$ m, $h_{end} = 3$ m, $T = 3$ s, $s_{end} = 5$ m.\n",
    "- Угол запуска тела $\\alpha$ не известен.\n",
    "- Начальный момент времени движения тела полагаем равным нулю: $t = 0$\n",
    "- Значение массы тела $m$ не повлияет на функции перемещения тела.\n",
    "\n",
    "**Задания для выполнения**\n",
    "- $\\color{red}\\text{Определите}$ функцию перемещения тела $(s_{x}(t),s_{y}(t))$\n",
    "- $\\color{red}\\text{Найдите}$ угол запуска тела $\\alpha$.\n",
    "- $\\color{red}\\text{Постройте}$ график траектории движения тела $(s_{x}(t),s_{y}(t))$ для $t \\in [0,T]$\n",
    "\n",
    "## Выполнение Задания 1.1\n",
    "### Этап 1. Импортирование модулей"
   ]
  },
  {
   "cell_type": "code",
   "execution_count": 21,
   "id": "2dcd266b-e8ed-447b-aa0f-292e96105819",
   "metadata": {},
   "outputs": [],
   "source": [
    "import math\n",
    "import numpy as np\n",
    "import matplotlib.pyplot as plt"
   ]
  },
  {
   "cell_type": "markdown",
   "id": "e9b1726e-9f69-40c4-ba28-cd584528cb11",
   "metadata": {},
   "source": [
    "## Задание 1.2. Определение момента времени касания телом земли "
   ]
  },
  {
   "cell_type": "markdown",
   "id": "39b9d8a7-49ee-4cb7-a62c-c6e73751d04d",
   "metadata": {},
   "source": [
    "Задание 1.3. Построение секущей, касательной и нормали к графику \n",
    "функции"
   ]
  },
  {
   "cell_type": "markdown",
   "id": "3a61dd08-0827-46dd-851d-60f70eadf6bb",
   "metadata": {},
   "source": [
    "Задание 1.4. Построение графиков функций"
   ]
  },
  {
   "cell_type": "markdown",
   "id": "ebb34a07-0e7b-4c0e-9d87-fb47d5f393c2",
   "metadata": {},
   "source": []
  },
  {
   "cell_type": "code",
   "execution_count": null,
   "id": "a6abc672-ee29-4f3f-aeda-65c95093d782",
   "metadata": {},
   "outputs": [],
   "source": []
  }
 ],
 "metadata": {
  "kernelspec": {
   "display_name": "Python [conda env:base] *",
   "language": "python",
   "name": "conda-base-py"
  },
  "language_info": {
   "codemirror_mode": {
    "name": "ipython",
    "version": 3
   },
   "file_extension": ".py",
   "mimetype": "text/x-python",
   "name": "python",
   "nbconvert_exporter": "python",
   "pygments_lexer": "ipython3",
   "version": "3.12.7"
  }
 },
 "nbformat": 4,
 "nbformat_minor": 5
}
