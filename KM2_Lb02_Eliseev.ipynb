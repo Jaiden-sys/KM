{
 "cells": [
  {
   "cell_type": "markdown",
   "id": "be390b6a-834d-4ae2-8e51-0f49c42a2f9c",
   "metadata": {},
   "source": [
    "# Лабораторная работа 2\n",
    "# Встроенные типы объектов в Python"
   ]
  },
  {
   "cell_type": "markdown",
   "id": "67704189-4a66-4096-bd3b-53a356dc6853",
   "metadata": {},
   "source": [
    "#### Елисеев Роман, 13.03.2025"
   ]
  },
  {
   "cell_type": "markdown",
   "id": "7da880b9-5bee-4659-af64-562be8f278aa",
   "metadata": {},
   "source": [
    "# Задание 1. \n",
    "### Построение иерархии встроенных типов в Python"
   ]
  },
  {
   "cell_type": "markdown",
   "id": "8ffe3496-4661-4d0a-9f9a-3557a79c909c",
   "metadata": {},
   "source": [
    "<h3><center>Встроенные типы</center></h3>\n",
    "<div style=\"display: flex; justify-content: space-between; padding: 0 20px;\">\n",
    "    <div style=\"flex: 1; text-align: left;\">\n",
    "        <h3>Числа</h3>\n",
    "        <ul style=\"list-style-type: none; padding: 0;\">\n",
    "            <li><h4>Целые числа</h4></li>\n",
    "            <li><h4>Числа с плавающей точкой</h4></li>\n",
    "            <li><h4>Комплексные числа</h4></li>\n",
    "            <li><h4>Булевый тип</h4></li>\n",
    "        </ul>\n",
    "    </div>\n",
    "    <div style=\"flex: 1; text-align: left; margin-left: 50px;\">\n",
    "        <h3>Коллекции</h3>\n",
    "        <ul style=\"list-style-type: none; padding: 0;\">\n",
    "            <li><h4>Отображения</h4></li>\n",
    "            <li><h4>Множества</h4></li>\n",
    "            <li><h4>Последовательности</h4></li>\n",
    "            <ul style=\"list-style-type: none; padding-left: 20px;\">\n",
    "                <li><h4>Списки</h4></li>\n",
    "                <li><h4>Строки</h4></li>\n",
    "                <li><h4>Кортежи</h4></li>\n",
    "            </ul>\n",
    "        </ul>\n",
    "    </div>\n",
    "</div>"
   ]
  },
  {
   "cell_type": "markdown",
   "id": "6af584e8-02dd-4e80-b590-b7853b31ed5e",
   "metadata": {},
   "source": [
    "# Задание 2.1 \n",
    "## Проработка примеров, представленных в лекционном файле"
   ]
  },
  {
   "cell_type": "markdown",
   "id": "d6cf5166-1086-42ea-89c3-a06817146356",
   "metadata": {},
   "source": [
    "# Задание 2.2 \n",
    "## Решение заданий"
   ]
  },
  {
   "cell_type": "markdown",
   "id": "52b52def-02dc-4114-b022-3d308f471d01",
   "metadata": {},
   "source": [
    "**2.2 Встроенные типы объектов, представляющих числа**"
   ]
  },
  {
   "cell_type": "code",
   "execution_count": 146,
   "id": "bccc713f-f9ae-4c7e-bb1f-6d3e54819721",
   "metadata": {},
   "outputs": [
    {
     "name": "stdout",
     "output_type": "stream",
     "text": [
      "50 50\n",
      "15 15\n"
     ]
    }
   ],
   "source": [
    "import decimal as dec\n",
    "print(10*5, dec.Decimal('10')*dec.Decimal('5'))\n",
    "print(10+5, dec.Decimal('10')+dec.Decimal('5'))"
   ]
  },
  {
   "cell_type": "code",
   "execution_count": 147,
   "id": "b8087159-51ae-461c-8c48-1be7a53515d8",
   "metadata": {},
   "outputs": [
    {
     "name": "stdout",
     "output_type": "stream",
     "text": [
      "1.125 9/8\n",
      "0.28125 9/32\n"
     ]
    }
   ],
   "source": [
    "import fractions\n",
    "print(0.75+0.375,fractions.Fraction(3,4)+fractions.Fraction(3,8))\n",
    "print(0.75*0.375,fractions.Fraction(3,4)*fractions.Fraction(3,8))"
   ]
  },
  {
   "cell_type": "markdown",
   "id": "5c58fbb6-a28b-44fb-b8ab-a09edc491e3c",
   "metadata": {},
   "source": [
    "**2.3 Встроенные типы последовательностей: str, list, tuple**"
   ]
  },
  {
   "cell_type": "code",
   "execution_count": 149,
   "id": "4edca8ea-c4bf-449b-aca4-7ef832fcc6fe",
   "metadata": {},
   "outputs": [
    {
     "name": "stdout",
     "output_type": "stream",
     "text": [
      "qwerty\n"
     ]
    }
   ],
   "source": [
    "s='qwerto'\n",
    "s=s[:5]+'y'+s[6:]\n",
    "print(s)"
   ]
  },
  {
   "cell_type": "markdown",
   "id": "9e3772a0-fdf0-487f-96fa-c20d5090fe0e",
   "metadata": {},
   "source": [
    "Операция присваивание по индексу не работает, так как строка является неизменяемым объектом"
   ]
  },
  {
   "cell_type": "code",
   "execution_count": 151,
   "id": "a6470340-7a10-4143-ab6c-90002f869784",
   "metadata": {},
   "outputs": [
    {
     "ename": "TypeError",
     "evalue": "'str' object does not support item assignment",
     "output_type": "error",
     "traceback": [
      "\u001b[1;31m---------------------------------------------------------------------------\u001b[0m",
      "\u001b[1;31mTypeError\u001b[0m                                 Traceback (most recent call last)",
      "Cell \u001b[1;32mIn[151], line 2\u001b[0m\n\u001b[0;32m      1\u001b[0m s\u001b[38;5;241m=\u001b[39m\u001b[38;5;124m'\u001b[39m\u001b[38;5;124mqwerty\u001b[39m\u001b[38;5;124m'\u001b[39m\n\u001b[1;32m----> 2\u001b[0m s[\u001b[38;5;241m1\u001b[39m]\u001b[38;5;241m=\u001b[39m\u001b[38;5;124m'\u001b[39m\u001b[38;5;124mz\u001b[39m\u001b[38;5;124m'\u001b[39m\n\u001b[0;32m      3\u001b[0m \u001b[38;5;28mprint\u001b[39m(s)\n",
      "\u001b[1;31mTypeError\u001b[0m: 'str' object does not support item assignment"
     ]
    }
   ],
   "source": [
    "s='qwerty'\n",
    "s[1]='z'\n",
    "print(s)"
   ]
  },
  {
   "cell_type": "markdown",
   "id": "753f283a-cf30-4a95-b216-42111bd169fe",
   "metadata": {},
   "source": [
    "**list**"
   ]
  },
  {
   "cell_type": "code",
   "execution_count": null,
   "id": "edf3578e-76b6-4c9b-a413-b162a0b19cc6",
   "metadata": {},
   "outputs": [],
   "source": [
    "z=list('qwerty')\n",
    "z[1]='z'\n",
    "print(z,str(l))"
   ]
  },
  {
   "cell_type": "markdown",
   "id": "c9958b8e-c435-4c4f-89cd-7e0d486b0582",
   "metadata": {},
   "source": [
    "Проделаем те же манипуляции и с кортежом"
   ]
  },
  {
   "cell_type": "code",
   "execution_count": null,
   "id": "0945c230-5846-4b32-8d6c-6366734b9a68",
   "metadata": {},
   "outputs": [],
   "source": [
    "t=tuple('asdf')\n",
    "t[1]='6'\n",
    "print(t)"
   ]
  },
  {
   "cell_type": "markdown",
   "id": "0e674f11-fa03-4baf-b16d-0afe21982e10",
   "metadata": {},
   "source": [
    "**2.4 Встроенный тип отображения: dict**"
   ]
  },
  {
   "cell_type": "code",
   "execution_count": null,
   "id": "67969f92-cae5-4cc9-b157-69d4a2c852ba",
   "metadata": {},
   "outputs": [],
   "source": [
    "me={'name':'Roman','familia':'Eliseev','adress':'Minsk',\n",
    "'age':17,'university':'BSU','email':'gmail','phone':505-842-5662}\n",
    "me['name']"
   ]
  },
  {
   "cell_type": "markdown",
   "id": "c8b2095a-d474-4316-a1f6-77331186f723",
   "metadata": {},
   "source": [
    "Словарь является типом данных в котором доступ осуществляется по связке ключ-значение. Словарь(хэш-таблица) основан на хэш-функции. Словарь хорош там, где нужно одинаковое время доступа к элементам."
   ]
  },
  {
   "cell_type": "markdown",
   "id": "80c01d47-db13-4faf-9a5a-d7047a30d3d2",
   "metadata": {},
   "source": [
    "**2.5 Встроенный тип множества: set**. Set - множество, тип данных хранящий только уникальные элементы. Он автоматически удаляет одинаковые элементы. Так же крайне быстро выполняется проверка принадлежности элемента к множеству (за O(1))"
   ]
  },
  {
   "cell_type": "code",
   "execution_count": null,
   "id": "95b1b7f0-2d7b-403f-a0f7-02171e1ce16d",
   "metadata": {},
   "outputs": [],
   "source": [
    "my_set = {1, 2, 3, 4, 5}\n",
    "print(my_set)\n",
    "\n",
    "my_list = [1, 2, 2, 3, 4, 4, 5]\n",
    "my_set = set(my_list)\n",
    "print(my_set)\n",
    "empty_set = set()\n",
    "print(empty_set)"
   ]
  },
  {
   "cell_type": "markdown",
   "id": "f4a46792-ba22-4132-a8d5-46768a06e615",
   "metadata": {},
   "source": [
    "**2.8. Интерфейс объекта: операции и методы**"
   ]
  },
  {
   "cell_type": "code",
   "execution_count": null,
   "id": "3c2dfb7e-7697-4559-a4cd-804ef88578a6",
   "metadata": {},
   "outputs": [],
   "source": [
    "s='roman'\n",
    "l=[i for i in range(3)]+[3]*7\n",
    "k=tuple([i for i in range(6)])\n",
    "s.count('a'),l.count(1),k.count(1)"
   ]
  },
  {
   "cell_type": "code",
   "execution_count": null,
   "id": "3d2fbbde-42ee-43be-8dc5-5c8b40d98ab4",
   "metadata": {},
   "outputs": [],
   "source": [
    "s.index('a'),l.index(1),k.index(5)"
   ]
  },
  {
   "cell_type": "code",
   "execution_count": null,
   "id": "957f1db9-525e-40d1-a926-f821053cf547",
   "metadata": {},
   "outputs": [],
   "source": [
    "s='spqr'\n",
    "s=s.upper()\n",
    "s"
   ]
  },
  {
   "cell_type": "markdown",
   "id": "4656dd7e-6345-46cb-beb7-8d84df15af32",
   "metadata": {},
   "source": [
    "Строковый метод upper преобразовывает буквенные символы строки в строчные буквы; небуквенные символы остаются без изменений"
   ]
  },
  {
   "cell_type": "markdown",
   "id": "0f43b099-5b0e-4af4-9f83-074995f91911",
   "metadata": {},
   "source": [
    "Три возможные способа добавления объекта в список:\n",
    "- append(a) добавляет объект a в конец списка\n",
    "- extend(b) добавляет несколько объектов из коллекции b в конец\n",
    "списка\n",
    "- insert(pos, c) добавляет элемент c в позицию pos"
   ]
  },
  {
   "cell_type": "markdown",
   "id": "299b3ffe-8350-4300-929e-d2458c189b6a",
   "metadata": {},
   "source": [
    "Ключ (key) — это функция, которая применяется к каждому элементу списка перед сортировкой. Вместо сравнения самих элементов сравниваются их преобразованные значения."
   ]
  },
  {
   "cell_type": "code",
   "execution_count": null,
   "id": "aa5f646e-0b89-46b8-b330-3a99bea5c618",
   "metadata": {},
   "outputs": [],
   "source": [
    "s = [\"apple\", \"banana\", \"kiwi\", \"cherry\"]\n",
    "s.sort(key=len)\n",
    "s"
   ]
  },
  {
   "cell_type": "markdown",
   "id": "27cdc14f-516d-465c-a68c-fc58e3c487b5",
   "metadata": {},
   "source": [
    "Если объект содержит ссылку на самого себя, то он становится циклическим объектом"
   ]
  },
  {
   "cell_type": "code",
   "execution_count": null,
   "id": "0f1bf164-c8dd-4785-b8b8-5c8a0055ec19",
   "metadata": {},
   "outputs": [],
   "source": [
    "a=[i for i in range(4)]\n",
    "a.append(a)\n",
    "a"
   ]
  },
  {
   "cell_type": "markdown",
   "id": "ce0d9ecf-2a65-46a7-91bb-fdf8b9a114f9",
   "metadata": {},
   "source": [
    "Копирование изменяемых объектов возможно с помощью метода copy"
   ]
  },
  {
   "cell_type": "code",
   "execution_count": null,
   "id": "3da830cc-832b-439c-bbda-a20e9b91e4d1",
   "metadata": {},
   "outputs": [],
   "source": [
    "new2=tab.copy()\n",
    "new2,tab"
   ]
  },
  {
   "cell_type": "markdown",
   "id": "b3c6e16c-203d-4eeb-888a-4242b2c6f7fe",
   "metadata": {},
   "source": [
    "**2.10 Выражение спискового включения**"
   ]
  },
  {
   "cell_type": "code",
   "execution_count": null,
   "id": "555a7717-8a08-489f-ae61-1019fae6a762",
   "metadata": {},
   "outputs": [],
   "source": [
    "{x for x in 'texts_and_poems' if x!='te'}"
   ]
  },
  {
   "cell_type": "code",
   "execution_count": null,
   "id": "9c1fd75a-6147-4959-b855-435f50a86dde",
   "metadata": {
    "scrolled": true
   },
   "outputs": [],
   "source": [
    "[[f'a{i}{j}' for j in range(3)] for i in range(4)]"
   ]
  },
  {
   "cell_type": "markdown",
   "id": "f6edbcb7-5421-4867-b0f3-dc8fa3e54f14",
   "metadata": {},
   "source": [
    "**2.11 Форматированный вывод строк**"
   ]
  },
  {
   "cell_type": "markdown",
   "id": "22f69abd-cb67-4b6c-8a7e-fa81db0afddf",
   "metadata": {},
   "source": [
    "f-строки (f-strings, Python 3.6+)\n",
    "Самый современный и удобный способ форматирования строк."
   ]
  },
  {
   "cell_type": "code",
   "execution_count": null,
   "id": "c5418148-ac11-428d-957e-670326836c1d",
   "metadata": {},
   "outputs": [],
   "source": [
    "name = \"David\"\n",
    "age = 40\n",
    "print(f\"Меня зовут {name}, мне {age} лет.\")"
   ]
  },
  {
   "cell_type": "markdown",
   "id": "e8f3ee68-4fc5-4d5b-bb81-0668ba71ed3e",
   "metadata": {},
   "source": [
    "**2.12 Файловый объект**"
   ]
  },
  {
   "cell_type": "code",
   "execution_count": 165,
   "id": "9b03328f-6776-4d9a-ac32-fd4edbd8b812",
   "metadata": {},
   "outputs": [
    {
     "name": "stdout",
     "output_type": "stream",
     "text": [
      "Рассказ: \"Москва — город контрастов\"\n",
      "Москва — это город, который никогда не спит. С его широкими проспектами, уютными переулками и величественными зданиями, он поражает своим размахом и красотой. Каждый уголок столицы России хранит в себе частичку истории.\n",
      "\n",
      "В центре города возвышается Кремль — символ власти и истории России. Его стены видели множество событий, от коронаций царей до современных политических решений. Рядом с Кремлем раскинулась Красная площадь, где проходят парады, концерты и народные гуляния.\n",
      "\n",
      "Но Москва — это не только история. Это еще и город современных технологий и небоскребов. Москва-Сити, с его стеклянными башнями, стал символом новой эпохи. Здесь работают крупнейшие компании, а с высоты смотровых площадок открывается потрясающий вид на город.\n",
      "\n",
      "Москва — это и культурная столица. Театры, музеи, галереи — здесь каждый найдет что-то для себя. Большой театр, Третьяковская галерея, Пушкинский музей — это лишь малая часть того, что можно посетить.\n",
      "Количество слов в тексте: 142\n",
      "Слово 'Москва' встречается 5 раз.\n"
     ]
    }
   ],
   "source": [
    "with open(\"C:/Users/Administrator/Documents/km2/lab2/Moscow.txt\",encoding=\"utf-8\") as file:\n",
    "    content = file.read()\n",
    "    print(content)\n",
    "\n",
    "words = content.split()\n",
    "print(f\"Количество слов в тексте: {len(words)}\")\n",
    "\n",
    "moscow_count = content.lower().count(\"москва\")\n",
    "print(f\"Слово 'Москва' встречается {moscow_count} раз.\")\n"
   ]
  },
  {
   "cell_type": "markdown",
   "id": "fe2e2275-dc7e-429a-895a-042d3d90a216",
   "metadata": {},
   "source": [
    "### Исправление ошибок"
   ]
  },
  {
   "cell_type": "markdown",
   "id": "78b29108-e031-459f-a42a-93f48bb7b56f",
   "metadata": {},
   "source": [
    "**Ошибка 2**"
   ]
  },
  {
   "cell_type": "code",
   "execution_count": null,
   "id": "68806e37-a8cb-4994-908a-da2f9ff22da3",
   "metadata": {},
   "outputs": [],
   "source": [
    "str1 = 'String'; \n",
    "str1[10]"
   ]
  },
  {
   "cell_type": "markdown",
   "id": "981fc10a-d4aa-4174-962f-01b851ea65f5",
   "metadata": {},
   "source": [
    "Индексация за пределами последовательности приводит к ошибке"
   ]
  },
  {
   "cell_type": "markdown",
   "id": "a3c080d3-9b8b-4bbd-92aa-0520804b347b",
   "metadata": {},
   "source": [
    "**Ошибка 3**"
   ]
  },
  {
   "cell_type": "code",
   "execution_count": null,
   "id": "98485119-378a-4a3f-8985-61ab405d84a5",
   "metadata": {},
   "outputs": [],
   "source": [
    "[1] + '1'"
   ]
  },
  {
   "cell_type": "markdown",
   "id": "d12c1f8d-b527-49a7-8846-31411170b88f",
   "metadata": {},
   "source": [
    "В выражении с операцией сложения `+` для последовательностей в качестве операндов могут быть использованы только объекты **одного и того же типа**."
   ]
  },
  {
   "cell_type": "markdown",
   "id": "5b57ee2d-7f8d-46b5-aff5-43b31f6ea7c0",
   "metadata": {},
   "source": [
    "**Ошибка 4**"
   ]
  },
  {
   "cell_type": "code",
   "execution_count": null,
   "id": "4c8b4f37-9963-4e4d-a26a-701f67b77861",
   "metadata": {},
   "outputs": [],
   "source": [
    "dict1 = {'one': 1,\"new\":4}"
   ]
  },
  {
   "cell_type": "code",
   "execution_count": null,
   "id": "75478a7a-9420-4a37-b5fb-4bd709e2a5c9",
   "metadata": {},
   "outputs": [],
   "source": [
    "dict1[\"two\"]"
   ]
  },
  {
   "cell_type": "markdown",
   "id": "4373688e-a715-4ce4-8142-8dc5b47a8407",
   "metadata": {},
   "source": [
    "Индексация по несуществующему ключу словаря приводит к ошибке"
   ]
  },
  {
   "cell_type": "markdown",
   "id": "fe573d2b-4c63-4d6f-96d7-bedaed0bab37",
   "metadata": {},
   "source": [
    "**Ошибка 5**"
   ]
  },
  {
   "cell_type": "code",
   "execution_count": null,
   "id": "1dc9acb5-b945-4c6a-993a-8406d6f7cd7b",
   "metadata": {},
   "outputs": [],
   "source": [
    "t = [1,3], {1:3}, {1,46}; t[0] = 0"
   ]
  },
  {
   "cell_type": "markdown",
   "id": "2d33c875-face-46ea-9986-e123bbf3efe7",
   "metadata": {},
   "source": [
    "Кортеж нельзя изменять, перезаписывать после создания"
   ]
  },
  {
   "cell_type": "markdown",
   "id": "087dab4b-dfce-4abd-b0e8-fb4ee0587aec",
   "metadata": {},
   "source": [
    "**Ошибка 6**"
   ]
  },
  {
   "cell_type": "code",
   "execution_count": null,
   "id": "80751a8d-24fd-46dc-a8cf-a6ff8aa4e842",
   "metadata": {},
   "outputs": [],
   "source": [
    "{1, 'str', (1,)}.add([1])"
   ]
  },
  {
   "cell_type": "markdown",
   "id": "3d2a3cb2-3713-4380-bb31-b640d24f915d",
   "metadata": {},
   "source": [
    "Элементами множества могут являться только объекты неизменяемых типов: число, строка, кортеж. Список является мутабельным объектом\n"
   ]
  },
  {
   "cell_type": "markdown",
   "id": "6f4c0262-7f36-470c-9e6c-2fb55d607706",
   "metadata": {},
   "source": [
    "**Ошибка 7**"
   ]
  },
  {
   "cell_type": "code",
   "execution_count": null,
   "id": "35b5f439-4aa8-4ae0-b133-565cb3b5c930",
   "metadata": {},
   "outputs": [],
   "source": [
    "s='string'\n",
    "print(s, s.find('-'))"
   ]
  },
  {
   "cell_type": "code",
   "execution_count": null,
   "id": "a0a2cf2d-8e18-4a2a-bcce-e5d97774abe2",
   "metadata": {},
   "outputs": [],
   "source": [
    "s.index('-')"
   ]
  },
  {
   "cell_type": "markdown",
   "id": "97615492-67e1-4e4f-b12f-0eeea2874177",
   "metadata": {},
   "source": [
    "Отличаются результаты выполнения методов find и index тогда, когда подстрока не содержится в строке"
   ]
  },
  {
   "cell_type": "markdown",
   "id": "c656366c-67e6-488d-8405-d403be3604a0",
   "metadata": {},
   "source": [
    "**Ошибка 8**"
   ]
  },
  {
   "cell_type": "code",
   "execution_count": null,
   "id": "ae3ffada-6071-4a8e-bc8b-4d54ef2a3520",
   "metadata": {},
   "outputs": [],
   "source": [
    "a = 1 \n",
    "a, d"
   ]
  },
  {
   "cell_type": "markdown",
   "id": "87d83b39-b3f6-4068-b5e5-35d2fc5cfbcb",
   "metadata": {},
   "source": [
    "Чтобы переменную можно было использовать, ей обязательно должно быть присвоено значение. Использование переменной до того, как ей было присвоено значение, всегда приведет к ошибке."
   ]
  },
  {
   "cell_type": "markdown",
   "id": "6dce8b75-f4f7-47f1-80fe-02c1d4ccca35",
   "metadata": {},
   "source": [
    "*Ошибка 9*"
   ]
  },
  {
   "cell_type": "code",
   "execution_count": null,
   "id": "7f5361fd-bc9a-4a7b-a3de-7074a57cad2c",
   "metadata": {},
   "outputs": [],
   "source": [
    "print(abs(-1))\n",
    "abs = 5\n",
    "print(abs(-1))"
   ]
  },
  {
   "cell_type": "markdown",
   "id": "553b1c73-2de2-4819-85eb-82c378bc58c6",
   "metadata": {},
   "source": [
    "Зарезервированные имена нельзя использовать в качестве переменных"
   ]
  },
  {
   "cell_type": "markdown",
   "id": "6cfe6d8f-2164-40ab-8723-1bc151c6c13a",
   "metadata": {},
   "source": [
    "# Задание 3"
   ]
  },
  {
   "cell_type": "markdown",
   "id": "96b46b3b-e6e4-4a77-9983-d5a418dedb70",
   "metadata": {},
   "source": [
    "Что означает “неизменяемость” или \"неизменяемый, и какие три основных типа Python считаются \n",
    "неизменяемыми?"
   ]
  },
  {
   "cell_type": "markdown",
   "id": "4e708d3c-7ff6-46a0-bcba-de06c7c622bf",
   "metadata": {},
   "source": [
    "“Неизменяемый” объект — это такой объект, который после создания нельзя модифицировать. К таким объектам относятся строки, кортежи и числа"
   ]
  },
  {
   "cell_type": "code",
   "execution_count": null,
   "id": "c7ab6b90-9c8b-46fe-b6b4-f495ff39654b",
   "metadata": {},
   "outputs": [],
   "source": [
    "s='str'\n",
    "s[0]='a'"
   ]
  },
  {
   "cell_type": "code",
   "execution_count": null,
   "id": "9131146b-a086-4a9c-b29c-ffcb8fcfe33f",
   "metadata": {},
   "outputs": [],
   "source": [
    "x=145\n",
    "print(id(x))\n",
    "x+=12\n",
    "print(id(x))"
   ]
  },
  {
   "cell_type": "code",
   "execution_count": null,
   "id": "eeab8fb6-8ad0-4d0f-bc4e-dfe5eb98026f",
   "metadata": {},
   "outputs": [],
   "source": [
    "x[0]=5"
   ]
  },
  {
   "cell_type": "markdown",
   "id": "2ebd5658-8cb6-4e42-85be-c1656d26600d",
   "metadata": {},
   "source": [
    "Какие инструменты можно использовать для нахождения квадратного корня и \n",
    "квадрата числа?"
   ]
  },
  {
   "cell_type": "markdown",
   "id": "fe733151-61df-4d9f-bef3-259c75f57609",
   "metadata": {},
   "source": [
    "math.sqrt() позволяет извлечь корень. a**2 позволяет найти квадрат"
   ]
  },
  {
   "cell_type": "markdown",
   "id": "38fb4adf-07e0-41dd-a91c-a6f2cfd8b947",
   "metadata": {},
   "source": [
    " Как можно преобразовывать целое число в число с плавающей точкой?"
   ]
  },
  {
   "cell_type": "markdown",
   "id": "9101f44c-ef22-472c-8f30-1a86b175f133",
   "metadata": {},
   "source": [
    "Функция float () преобразует int в float"
   ]
  },
  {
   "cell_type": "code",
   "execution_count": 167,
   "id": "d078d342-95ef-4e55-979c-2418f1c778ce",
   "metadata": {},
   "outputs": [
    {
     "ename": "TypeError",
     "evalue": "'str' object does not support item assignment",
     "output_type": "error",
     "traceback": [
      "\u001b[1;31m---------------------------------------------------------------------------\u001b[0m",
      "\u001b[1;31mTypeError\u001b[0m                                 Traceback (most recent call last)",
      "Cell \u001b[1;32mIn[167], line 2\u001b[0m\n\u001b[0;32m      1\u001b[0m s \u001b[38;5;241m=\u001b[39m \u001b[38;5;124m'\u001b[39m\u001b[38;5;124masdbvc\u001b[39m\u001b[38;5;124m'\u001b[39m\n\u001b[1;32m----> 2\u001b[0m s[\u001b[38;5;241m3\u001b[39m] \u001b[38;5;241m=\u001b[39m \u001b[38;5;124m'\u001b[39m\u001b[38;5;124m1\u001b[39m\u001b[38;5;124m'\u001b[39m\n",
      "\u001b[1;31mTypeError\u001b[0m: 'str' object does not support item assignment"
     ]
    }
   ],
   "source": [
    "s = 'asdbvc'\n"
   ]
  },
  {
   "cell_type": "code",
   "execution_count": null,
   "id": "6ea27814-ade6-4877-885c-199d76727c51",
   "metadata": {},
   "outputs": [],
   "source": []
  }
 ],
 "metadata": {
  "kernelspec": {
   "display_name": "Python [conda env:base] *",
   "language": "python",
   "name": "conda-base-py"
  },
  "language_info": {
   "codemirror_mode": {
    "name": "ipython",
    "version": 3
   },
   "file_extension": ".py",
   "mimetype": "text/x-python",
   "name": "python",
   "nbconvert_exporter": "python",
   "pygments_lexer": "ipython3",
   "version": "3.12.7"
  }
 },
 "nbformat": 4,
 "nbformat_minor": 5
}
