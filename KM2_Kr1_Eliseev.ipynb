{
 "cells": [
  {
   "cell_type": "markdown",
   "id": "32f0de84-25ae-4612-917d-1f252fd2fb36",
   "metadata": {},
   "source": [
    "Елисеев Роман 11 группа"
   ]
  },
  {
   "cell_type": "code",
   "execution_count": 19,
   "id": "31606c1c-0cb5-45b2-a463-865c1ddea74c",
   "metadata": {},
   "outputs": [
    {
     "data": {
      "text/plain": [
       "14"
      ]
     },
     "execution_count": 19,
     "metadata": {},
     "output_type": "execute_result"
    }
   ],
   "source": [
    "def func1(*args, **kwargs):\n",
    "    arguments = list(args) + list(kwargs)\n",
    "    if arguments == None:\n",
    "        return None\n",
    "    sum = arguments[0]\n",
    "    for i in arguments[:1]:\n",
    "        sum += i\n",
    "    return sum\n",
    "func1(7,10)"
   ]
  },
  {
   "cell_type": "code",
   "execution_count": 1,
   "id": "e6f5868e-de72-437f-9b02-63f3e6bd7d8e",
   "metadata": {},
   "outputs": [],
   "source": [
    "def func3(n):\n",
    "    while n < 0:\n",
    "        yield n\n",
    "        n -= 1\n",
    "\n",
    "gen = func3(5)\n",
    "\n",
    "for i in gen:\n",
    "    print(i)"
   ]
  },
  {
   "cell_type": "code",
   "execution_count": null,
   "id": "950eb73f-2f9c-476e-a7f9-a9d7c3dd565a",
   "metadata": {},
   "outputs": [],
   "source": []
  }
 ],
 "metadata": {
  "kernelspec": {
   "display_name": "Python 3 (ipykernel)",
   "language": "python",
   "name": "python3"
  },
  "language_info": {
   "codemirror_mode": {
    "name": "ipython",
    "version": 3
   },
   "file_extension": ".py",
   "mimetype": "text/x-python",
   "name": "python",
   "nbconvert_exporter": "python",
   "pygments_lexer": "ipython3",
   "version": "3.11.7"
  }
 },
 "nbformat": 4,
 "nbformat_minor": 5
}
